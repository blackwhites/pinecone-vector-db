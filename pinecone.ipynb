{
 "cells": [
  {
   "cell_type": "code",
   "execution_count": null,
   "id": "a24f3bf4-a7c7-4839-afeb-793248ed8972",
   "metadata": {},
   "outputs": [],
   "source": [
    "# !pip install pinecone-client"
   ]
  },
  {
   "cell_type": "code",
   "execution_count": 2,
   "id": "2f17ad03-3bd7-40ac-b64c-1ea64cfb61eb",
   "metadata": {},
   "outputs": [],
   "source": [
    "import pinecone"
   ]
  },
  {
   "cell_type": "code",
   "execution_count": 3,
   "id": "f1f95e87-8124-41e3-90ab-7d1c7a961c60",
   "metadata": {},
   "outputs": [],
   "source": [
    "# Pinecone 클라이언트를 초기화합니다.\n",
    "pinecone.init(      \n",
    "\tapi_key='dec6a022-886e-487c-8c37-0a8e82114296',      \n",
    "\tenvironment='us-east1-gcp'      \n",
    ")"
   ]
  },
  {
   "cell_type": "code",
   "execution_count": 22,
   "id": "c0187980-42ea-43fa-bccf-03e3522e0c9b",
   "metadata": {},
   "outputs": [],
   "source": [
    "if not pinecone.list_indexes():\n",
    "    pinecone.create_index('sementic-test',\n",
    "                          dimension=128,\n",
    "                          metric='euclidean')"
   ]
  },
  {
   "cell_type": "code",
   "execution_count": 12,
   "id": "0b6a1592-ffb6-48a6-acbb-3a9b76f8e36f",
   "metadata": {},
   "outputs": [
    {
     "data": {
      "text/plain": [
       "IndexDescription(name='sementic-test', metric='euclidean', replicas=1, dimension=128.0, shards=1, pods=1, pod_type='p1.x1', status={'ready': True, 'state': 'Ready'}, metadata_config=None, source_collection='')"
      ]
     },
     "execution_count": 12,
     "metadata": {},
     "output_type": "execute_result"
    }
   ],
   "source": [
    "pinecone.describe_index('sementic-test')"
   ]
  },
  {
   "cell_type": "markdown",
   "id": "fa61ec58-be0d-48bf-9bd1-1ea86bd6f9e4",
   "metadata": {},
   "source": [
    "### insert One"
   ]
  },
  {
   "cell_type": "code",
   "execution_count": 13,
   "id": "8fbd4cf5-686c-4660-93a5-a16246565bda",
   "metadata": {},
   "outputs": [],
   "source": [
    "import random\n",
    "\n",
    "ids = ['a','b','c','d','e']\n",
    "vecs = [[random.random() for _ in range(128)] for vec in range(5)]"
   ]
  },
  {
   "cell_type": "code",
   "execution_count": 15,
   "id": "38954838-2ef2-4b73-ad72-ca426d6d5935",
   "metadata": {},
   "outputs": [],
   "source": [
    "index = pinecone.Index('sementic-test')"
   ]
  },
  {
   "cell_type": "code",
   "execution_count": 16,
   "id": "5581e3b7-b72b-4047-b7c3-7d6a78ccb923",
   "metadata": {},
   "outputs": [
    {
     "data": {
      "text/plain": [
       "{'upserted_count': 5}"
      ]
     },
     "execution_count": 16,
     "metadata": {},
     "output_type": "execute_result"
    }
   ],
   "source": [
    "index.upsert(vectors=zip(ids,vecs))"
   ]
  },
  {
   "cell_type": "markdown",
   "id": "ec878b16-08c8-4eab-99b5-7fa974e8374e",
   "metadata": {},
   "source": [
    "### insert Batch"
   ]
  },
  {
   "cell_type": "code",
   "execution_count": 23,
   "id": "f608a2e1-6793-4c82-94c3-2fbc7c4c74ba",
   "metadata": {},
   "outputs": [],
   "source": [
    "import itertools\n",
    "\n",
    "vector_dim = 128\n",
    "vector_count = 10000\n",
    "\n",
    "# Example generator that generates many (id, vector) pairs\n",
    "example_data_generator = map(\n",
    "    lambda i:\n",
    "        (f'id-{i}', [random.random() for _ in range(vector_dim)]),\n",
    "        range(vector_count) \n",
    ")"
   ]
  },
  {
   "cell_type": "code",
   "execution_count": 25,
   "id": "e9dd5d04-1939-483b-a71c-05ab34d6528c",
   "metadata": {},
   "outputs": [],
   "source": [
    "def chunks(iterable, batch_size=100):\n",
    "    it = iter(iterable)\n",
    "    chunk = tuple(itertools.islice(it, batch_size))\n",
    "    while chunk:\n",
    "        yield chunk\n",
    "        chunk = tuple(itertools.islice(it, batch_size)) "
   ]
  },
  {
   "cell_type": "code",
   "execution_count": 20,
   "id": "819a9e52-c04b-42af-9963-c257a0a450d9",
   "metadata": {},
   "outputs": [],
   "source": [
    "for chunk in chunks(example_data_generator):\n",
    "    index.upsert(vectors=chunk)"
   ]
  },
  {
   "cell_type": "markdown",
   "id": "054b7041-8233-47e9-97dd-5c52b96e1c30",
   "metadata": {},
   "source": [
    "## Insert Parallel"
   ]
  },
  {
   "cell_type": "code",
   "execution_count": 26,
   "id": "365a0d2c-b356-45b7-b987-8ba757b6d343",
   "metadata": {},
   "outputs": [],
   "source": [
    "with pinecone.Index('sementic-test', pool_threads=30) as index:\n",
    "    async_results = [\n",
    "        index.upsert(vectors=ids_vectors_chunk, async_req=True)\n",
    "        for ids_vectors_chunk in chunks(example_data_generator, batch_size=100)\n",
    "    ]\n",
    "    \n",
    "    [async_result.get() for async_result in async_results]"
   ]
  },
  {
   "cell_type": "markdown",
   "id": "2a82b427-0e86-4153-b776-0ec9bb42be06",
   "metadata": {},
   "source": [
    "## Fetch Vectors"
   ]
  },
  {
   "cell_type": "code",
   "execution_count": 28,
   "id": "f3288d13-bfc1-459f-a9bf-490a6b0a0d90",
   "metadata": {},
   "outputs": [],
   "source": [
    "index.fetch(ids=['id-0', 'id-1'])"
   ]
  },
  {
   "cell_type": "code",
   "execution_count": 31,
   "id": "b76b4f86-76fc-4f2d-9f44-82348c7d14de",
   "metadata": {},
   "outputs": [
    {
     "data": {
      "text/plain": [
       "{'upserted_count': 1}"
      ]
     },
     "execution_count": 31,
     "metadata": {},
     "output_type": "execute_result"
    }
   ],
   "source": [
    "# update vectors\n",
    "index.upsert(vectors=[('id-0', [0.0] * 128)])"
   ]
  },
  {
   "cell_type": "code",
   "execution_count": 33,
   "id": "b3af8673-7c25-498d-861a-dfcef078c0a9",
   "metadata": {},
   "outputs": [
    {
     "data": {
      "text/plain": [
       "{}"
      ]
     },
     "execution_count": 33,
     "metadata": {},
     "output_type": "execute_result"
    }
   ],
   "source": [
    "# Deleting Vectors\n",
    "index.delete(ids=['id-1'])\n",
    "\n",
    "index.delete(delete_all=True, namespace='example-namespace')"
   ]
  },
  {
   "cell_type": "code",
   "execution_count": null,
   "id": "639eb4c4-c990-429d-990a-9f2b2dd81a01",
   "metadata": {},
   "outputs": [],
   "source": []
  }
 ],
 "metadata": {
  "kernelspec": {
   "display_name": "torch_p39",
   "language": "python",
   "name": "torch"
  },
  "language_info": {
   "codemirror_mode": {
    "name": "ipython",
    "version": 3
   },
   "file_extension": ".py",
   "mimetype": "text/x-python",
   "name": "python",
   "nbconvert_exporter": "python",
   "pygments_lexer": "ipython3",
   "version": "3.9.15"
  }
 },
 "nbformat": 4,
 "nbformat_minor": 5
}
